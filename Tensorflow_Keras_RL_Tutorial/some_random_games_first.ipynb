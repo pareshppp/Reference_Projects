{
 "cells": [
  {
   "cell_type": "code",
   "execution_count": 5,
   "metadata": {},
   "outputs": [],
   "source": [
    "import warnings; warnings.simplefilter('ignore')\n",
    "import gym\n",
    "import numpy as np\n",
    "import random"
   ]
  },
  {
   "cell_type": "markdown",
   "metadata": {},
   "source": [
    "Here we will define a random game. There are 20 episodes. Each episode has time_steps = goal_steps.\n",
    "\n",
    "observation is the state. env.reset() resets the environment to inital condition. Here env.reset() brings the pole to uright position. \n",
    "\n",
    "env.render() brings up the window and viewer of the game.\n",
    "\n",
    "action is the action taken in current state (S) - observation. Here we are taking random action from the action_space of the env. \n",
    "\n",
    "env.step(action) returns the following:\n",
    " - observation - next state ($S_{t+1}$)\n",
    " - reward - reward fro the action taken ($R_{t+1}$)\n",
    " - done - boolean for whether the episode is complete or not\n",
    " - info - probabilistic info"
   ]
  },
  {
   "cell_type": "code",
   "execution_count": 2,
   "metadata": {
    "deletable": false,
    "editable": false,
    "run_control": {
     "frozen": true
    }
   },
   "outputs": [],
   "source": [
    "def some_random_games_first():\n",
    "    with open(\"log/some_random_games_first_log.txt\", \"w\") as file:\n",
    "                file.write('Logs for some_random_games_first.\\n\\n')\n",
    "    for episode in range(5):\n",
    "        observation = env.reset()\n",
    "        for t in range(goal_steps):\n",
    "            env.render()\n",
    "            with open(\"log/some_random_games_first_log.txt\", \"a\") as file:\n",
    "                file.write('Observation: {} \\n'.format(observation))\n",
    "            action = env.action_space.sample()\n",
    "            with open(\"log/some_random_games_first_log.txt\", \"a\") as file:\n",
    "                file.write('Action: {} \\n'.format(action))\n",
    "            observation, reward, done, info = env.step(action)\n",
    "            with open(\"log/some_random_games_first_log.txt\", \"a\") as file:\n",
    "                file.write('Reward: {} \\n'.format(reward))\n",
    "            if done:\n",
    "                with open(\"log/some_random_games_first_log.txt\", \"a\") as file:\n",
    "                    file.write('Reward: {} \\n'.format(reward))\n",
    "                    file.write(\"Episode finished after {} timesteps \\n\\n\\n\".format(t+1))\n",
    "                break\n",
    "\n",
    "some_random_games_first()                "
   ]
  },
  {
   "cell_type": "code",
   "execution_count": 3,
   "metadata": {
    "deletable": false,
    "editable": false,
    "run_control": {
     "frozen": true
    }
   },
   "outputs": [],
   "source": []
  },
  {
   "cell_type": "code",
   "execution_count": 4,
   "metadata": {
    "deletable": false,
    "editable": false,
    "run_control": {
     "frozen": true
    }
   },
   "outputs": [],
   "source": []
  },
  {
   "cell_type": "code",
   "execution_count": 10,
   "metadata": {
    "deletable": false,
    "editable": false,
    "run_control": {
     "frozen": true
    }
   },
   "outputs": [],
   "source": []
  }
 ],
 "metadata": {
  "kernelspec": {
   "display_name": "Python 3",
   "language": "python",
   "name": "python3"
  },
  "language_info": {
   "codemirror_mode": {
    "name": "ipython",
    "version": 3
   },
   "file_extension": ".py",
   "mimetype": "text/x-python",
   "name": "python",
   "nbconvert_exporter": "python",
   "pygments_lexer": "ipython3",
   "version": "3.6.3"
  }
 },
 "nbformat": 4,
 "nbformat_minor": 2
}
