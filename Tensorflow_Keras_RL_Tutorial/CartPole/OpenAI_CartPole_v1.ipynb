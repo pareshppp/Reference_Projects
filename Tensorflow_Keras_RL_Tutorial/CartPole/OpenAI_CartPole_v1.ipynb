{
 "cells": [
  {
   "cell_type": "code",
   "execution_count": 1,
   "metadata": {},
   "outputs": [],
   "source": [
    "import warnings; warnings.simplefilter('ignore')\n",
    "import gym\n",
    "import numpy as np\n",
    "import pandas as pd\n",
    "import tflearn\n",
    "from tflearn.layers.core import input_data\n",
    "from tflearn.layers.core import dropout\n",
    "from tflearn.layers.core import fully_connected\n",
    "from tflearn.layers.estimator import regression\n",
    "from collections import Counter\n",
    "import time\n",
    "import random"
   ]
  },
  {
   "cell_type": "code",
   "execution_count": 2,
   "metadata": {},
   "outputs": [
    {
     "name": "stdout",
     "output_type": "stream",
     "text": [
      "\u001b[33mWARN: gym.spaces.Box autodetected dtype as <class 'numpy.float32'>. Please provide explicit dtype.\u001b[0m\n"
     ]
    }
   ],
   "source": [
    "LR = 1e-3\n",
    "env = gym.make('CartPole-v1')\n",
    "goal_steps = 500 # Max no. of time_steps in each Episode\n",
    "score_requirement = 50\n",
    "initial_games = 10000 # No. of Episodes"
   ]
  },
  {
   "cell_type": "markdown",
   "metadata": {
    "deletable": false,
    "editable": false,
    "run_control": {
     "frozen": true
    }
   },
   "source": [
    "initial_population() will create a training set using random action in each state (observation)."
   ]
  },
  {
   "cell_type": "code",
   "execution_count": 3,
   "metadata": {},
   "outputs": [],
   "source": [
    "def initial_population():\n",
    "    \n",
    "    training_data = []\n",
    "    all_scores = []\n",
    "    accepted_scores = []\n",
    "    \n",
    "    for _ in range(initial_games): # Looping through all Episodes\n",
    "        \n",
    "        score = 0 # Value\n",
    "        game_memory = [] # Policy = [State, Action]\n",
    "        observation = env.reset() # Initial State\n",
    "        \n",
    "        for _ in range(goal_steps):  # Looping through all time_steps in the Episode\n",
    "            \n",
    "            # action = random.randrange(0,2)\n",
    "            action = env.action_space.sample() # Random action chosen from the action_space\n",
    "            game_memory.append([observation, action]) # Add [State, Action] to Policy\n",
    "            \n",
    "            # Move to the next State with a random action chosen from the action_space\n",
    "            observation, reward, done, info = env.step(action)\n",
    "            \n",
    "            # prev_observation = observation\n",
    "            # Increase Value by Reward\n",
    "            score += reward\n",
    "            \n",
    "            # if pole tilted beyond 15 degrees from vertical then end episode\n",
    "            if done: break\n",
    "                \n",
    "        # if Value of Episode > requirement\n",
    "        if score >= score_requirement:\n",
    "            accepted_scores.append(score)\n",
    "            \n",
    "            # Generating training data for the game\n",
    "            # training_data.extend(game_memory)\n",
    "            \n",
    "            for data in game_memory:\n",
    "                if data[1] == 1:\n",
    "                    output = [data[0],[0,1]]\n",
    "                elif data[1] == 0:\n",
    "                    output = [data[0],[1,0]]\n",
    "                training_data.append(output)\n",
    "            # The action label has both actions (left & right -- 0,1) so that we can \n",
    "            # get the probability of both actions in any given state(observation)\n",
    "            # The agent will chose the action with higher probability\n",
    "        \n",
    "        all_scores.append(score)\n",
    "        \n",
    "        \n",
    "    # np.savetxt('Data_Files/training_data.txt', training_data)\n",
    "    # pd.DataFrame([training_data[0][0].tolist(), training_data[0][1]]).to_csv('Data_Files/training_data.csv', \\\n",
    "    #                                    index=False, header=False)\n",
    "    \n",
    "    print('Average accepted score: {}'.format(np.mean(accepted_scores)))\n",
    "    print('Median accepted score: {}'.format(np.median(accepted_scores)))\n",
    "    print(Counter(accepted_scores)) # frequency count of all accepted values\n",
    "    \n",
    "    return training_data\n",
    "\n",
    "\n",
    "\n",
    "# initial_population();\n",
    "# training_data = initial_population()"
   ]
  },
  {
   "cell_type": "code",
   "execution_count": 4,
   "metadata": {},
   "outputs": [],
   "source": [
    "def neural_network_model(input_size):\n",
    "    \n",
    "    network = input_data(shape=[None, input_size, 1], name='input')\n",
    "    \n",
    "    network = fully_connected(network, 128, activation='relu')\n",
    "    network = dropout(network, 0.8)\n",
    "    \n",
    "    network = fully_connected(network, 256, activation='relu')\n",
    "    network = dropout(network, 0.8)\n",
    "    \n",
    "    network = fully_connected(network, 512, activation='relu')\n",
    "    network = dropout(network, 0.8)\n",
    "    \n",
    "    network = fully_connected(network, 256, activation='relu')\n",
    "    network = dropout(network, 0.8)\n",
    "    \n",
    "    network = fully_connected(network, 128, activation='relu')\n",
    "    network = dropout(network, 0.8)\n",
    "    \n",
    "    network = fully_connected(network, 2, activation='softmax')\n",
    "    network = regression(network, optimizer='adam', learning_rate=LR,\\\n",
    "                        loss='categorical_crossentropy', name='targets')\n",
    "    model = tflearn.DNN(network, tensorboard_dir='log')\n",
    "    \n",
    "    return model\n",
    "\n",
    "    "
   ]
  },
  {
   "cell_type": "code",
   "execution_count": 5,
   "metadata": {},
   "outputs": [],
   "source": [
    "def train_model(training_data, model=False):\n",
    "    \n",
    "    # X = observation as array of input features - shape (-1, 4, 1)\n",
    "    # y = action as array of output labels\n",
    "    \n",
    "    X = np.array([i[0] for i in training_data]).reshape(-1, len(training_data[0][0]), 1) \n",
    "    y = np.array([i[1] for i in training_data]).reshape(-1, 2)\n",
    "    \n",
    "    if not model:\n",
    "        model = neural_network_model(input_size = len(X[0]))\n",
    "    \n",
    "    # fit the neural network model over the training data for n_epochs\n",
    "    model.fit(X, y, n_epoch=3, validation_set=0.1, snapshot_step=500, \\\n",
    "             show_metric=True, run_id='openai_learning')\n",
    "\n",
    "    return model"
   ]
  },
  {
   "cell_type": "code",
   "execution_count": 6,
   "metadata": {
    "deletable": false,
    "editable": false,
    "run_control": {
     "frozen": true
    }
   },
   "outputs": [
    {
     "name": "stdout",
     "output_type": "stream",
     "text": [
      "Average accepted score: 61.515151515151516\n",
      "Median accepted score: 58.0\n",
      "Counter({51.0: 30, 53.0: 29, 52.0: 25, 54.0: 22, 55.0: 21, 50.0: 20, 60.0: 18, 56.0: 17, 61.0: 15, 59.0: 14, 57.0: 12, 62.0: 11, 58.0: 11, 65.0: 10, 66.0: 10, 67.0: 9, 63.0: 9, 70.0: 8, 68.0: 7, 69.0: 7, 64.0: 5, 78.0: 4, 71.0: 4, 80.0: 4, 88.0: 3, 76.0: 3, 72.0: 3, 84.0: 3, 81.0: 3, 77.0: 2, 114.0: 2, 83.0: 2, 74.0: 2, 79.0: 2, 73.0: 2, 89.0: 2, 75.0: 2, 99.0: 1, 102.0: 1, 90.0: 1, 129.0: 1, 123.0: 1, 96.0: 1, 116.0: 1, 103.0: 1, 107.0: 1, 112.0: 1})\n"
     ]
    }
   ],
   "source": [
    "training_data = initial_population()"
   ]
  },
  {
   "cell_type": "code",
   "execution_count": 7,
   "metadata": {
    "deletable": false,
    "editable": false,
    "run_control": {
     "frozen": true
    }
   },
   "outputs": [
    {
     "name": "stdout",
     "output_type": "stream",
     "text": [
      "Training Step: 944  | total loss: \u001b[1m\u001b[32m0.67922\u001b[0m\u001b[0m | time: 12.894s\n",
      "| Adam | epoch: 003 | loss: 0.67922 - acc: 0.5787 -- iter: 20096/20097\n",
      "Training Step: 945  | total loss: \u001b[1m\u001b[32m0.67796\u001b[0m\u001b[0m | time: 13.949s\n",
      "| Adam | epoch: 003 | loss: 0.67796 - acc: 0.5834 | val_loss: 0.66656 - val_acc: 0.5920 -- iter: 20097/20097\n",
      "--\n"
     ]
    }
   ],
   "source": [
    "model = train_model(training_data)"
   ]
  },
  {
   "cell_type": "code",
   "execution_count": 13,
   "metadata": {},
   "outputs": [
    {
     "name": "stdout",
     "output_type": "stream",
     "text": [
      "Average Score: 396.5\n",
      "Choices 1: 0.4968474148802018, Choice 2: 0.5031525851197982\n"
     ]
    }
   ],
   "source": [
    "all_scores = [] # Total value\n",
    "choices = [] # Choice - left or right\n",
    "\n",
    "for each_game in range(10):\n",
    "    score = 0\n",
    "    game_memory = []\n",
    "    observation = env.reset()\n",
    "    \n",
    "    for _ in range(goal_steps):\n",
    "        env.render()\n",
    "        \n",
    "        if len(observation) == 0:\n",
    "            action = random.randrange(0,2)\n",
    "        else:\n",
    "            # predict = probability of both actions based on state\n",
    "            predict = model.predict(observation.reshape(-1, len(observation), 1))[0]\n",
    "            # action = action with the highest probability\n",
    "            action = np.argmax(predict)\n",
    "        \n",
    "        choices.append(action)\n",
    "        \n",
    "        observation, reward, done, info = env.step(action)\n",
    "        # prev_obs = observation\n",
    "        game_memory.append([observation, action])\n",
    "        score += reward\n",
    "        \n",
    "        if done: break\n",
    "            \n",
    "    all_scores.append(score)\n",
    "    \n",
    "print('Average Score: {}'.format(sum(all_scores)/len(all_scores)))\n",
    "print('Choices 1: {}, Choice 2: {}'.format(choices.count(1)/len(choices), \\\n",
    "                                           choices.count(0)/len(choices)))"
   ]
  },
  {
   "cell_type": "code",
   "execution_count": 14,
   "metadata": {
    "deletable": false,
    "editable": false,
    "run_control": {
     "frozen": true
    }
   },
   "outputs": [
    {
     "name": "stdout",
     "output_type": "stream",
     "text": [
      "INFO:tensorflow:/home/paresh/Code/Data Science Projects/Reference_Projects/Tensorflow_Keras_RL_Tutorial/Model_Files/carpole_v1.model is not in all_model_checkpoint_paths. Manually adding it.\n"
     ]
    }
   ],
   "source": [
    "# model.save('Model_Files/carpole_v1.model')"
   ]
  },
  {
   "cell_type": "code",
   "execution_count": 11,
   "metadata": {},
   "outputs": [],
   "source": [
    "# model.load('Model_Files/carpole_v1.model')"
   ]
  },
  {
   "cell_type": "code",
   "execution_count": null,
   "metadata": {},
   "outputs": [],
   "source": []
  },
  {
   "cell_type": "raw",
   "metadata": {},
   "source": []
  }
 ],
 "metadata": {
  "kernelspec": {
   "display_name": "Python 3",
   "language": "python",
   "name": "python3"
  },
  "language_info": {
   "codemirror_mode": {
    "name": "ipython",
    "version": 3
   },
   "file_extension": ".py",
   "mimetype": "text/x-python",
   "name": "python",
   "nbconvert_exporter": "python",
   "pygments_lexer": "ipython3",
   "version": "3.6.3"
  }
 },
 "nbformat": 4,
 "nbformat_minor": 2
}
