{
 "cells": [
  {
   "cell_type": "markdown",
   "metadata": {},
   "source": [
    "# How to crack a password using Gentic Algorithm?\n",
    "\n",
    "Source: https://blog.sicara.com/getting-started-genetic-algorithms-python-tutorial-81ffa1dd72f9"
   ]
  },
  {
   "cell_type": "code",
   "execution_count": 19,
   "metadata": {},
   "outputs": [],
   "source": [
    "import numpy as np\n",
    "import string\n",
    "import operator"
   ]
  },
  {
   "cell_type": "markdown",
   "metadata": {},
   "source": [
    "### Choosing a fitness function\n",
    "\n",
    "The evaluation function is the first step to create a genetic algorithm. It’s the function that estimates the success of our specimen: it will allow us to divide the population between the ugly duckling and the beautiful swans. The goal of this separation is that, later, the successful specimen will have more “chance” to get picked to form the next generation. \n",
    "\n",
    "What is our goal? Crack a password. Thus the goal of our function is to transform the binary result “fail or success” in a continuous mark from 0 (can’t fail more) to 100 (perfection).\n",
    "\n",
    "The simplest solution here is:\n",
    "\n",
    "$$fitness\\ score = (number\\ of\\ char\\ correct)\\ /\\ (total\\ number\\ of\\ char)$$\n",
    "\n",
    "That way, an individual with a bigger fitness result is a specimen genetically closer to success than the others. Thus the fitness function for our genetic algorithm will accurately sort the population.\n"
   ]
  },
  {
   "cell_type": "code",
   "execution_count": 6,
   "metadata": {},
   "outputs": [],
   "source": [
    "def fitness(password, test_word):\n",
    "    if (len(password) != len(test_word)):\n",
    "        print('Incompatible')\n",
    "        return\n",
    "    else:\n",
    "        score = 0\n",
    "        for idx, char in enumerate(password):\n",
    "            if (char == test_word[idx]):\n",
    "                score += 1\n",
    "    return score * 100 / len(password)"
   ]
  },
  {
   "cell_type": "markdown",
   "metadata": {},
   "source": [
    "### Creating our individuals\n",
    "\n",
    "So now we know how to evaluate our individuals; but how do we define them? This part is really tricky: the goal is to know what are the unalterable characteristics and what is variable.\n",
    "\n",
    "The comparison with genetics is here really helpful. Indeed, the DNA is composed of genes, and each of those genes comes through different alleles (different versions of this gene). Genetic algorithms retain this concept of population’s DNA.\n",
    "\n",
    "In our case, our individuals are going to be words (obviously of equal length with the password). Each letter is a gene and the value of the letter is the allele. In the word “banana”: ‘b’ is the allele of the first letter.\n",
    "\n",
    "What is the point of this creation?\n",
    "\n",
    "- We know that each of our individuals is keeping the good shape (a word with the correct size)\n",
    "- Our population can cover every possibility (every word possible with this size).\n",
    "\n",
    "Out genetic algorithm can then explore all possible combinations."
   ]
  },
  {
   "cell_type": "markdown",
   "metadata": {},
   "source": [
    "### Creating our first population\n",
    "\n",
    "Now, we know what are the characteristics of our individuals and how we can evaluate their performance. We can now start the \"evolution\" step of our genetic algorithm.\n",
    "\n",
    "The main idea to keep in mind when we create the first population is that we must not\n",
    "\n",
    "point the population towards a solution that seems good. We must make the population as wide as possible and make it cover as many possibilities as possible. The perfect first population of a genetic algorithm should cover every existing allele.\n",
    "\n",
    "So in our case, we are just going to create words only composed of random letters."
   ]
  },
  {
   "cell_type": "code",
   "execution_count": 37,
   "metadata": {},
   "outputs": [],
   "source": [
    "def generateWord(length):\n",
    "    all_chars = list(string.ascii_letters + string.digits + \\\n",
    "                     '@' + '#' + '$' + '_')\n",
    "    new_word = np.random.choice(all_chars, size=length, replace=True)\n",
    "    new_word = \"\".join(new_word)\n",
    "    return new_word"
   ]
  },
  {
   "cell_type": "code",
   "execution_count": 39,
   "metadata": {},
   "outputs": [],
   "source": [
    "def generateFirstPopulation(population_size, password):\n",
    "    population = []\n",
    "    for i in range(population_size):\n",
    "        population.append(generateWord(len(password)))\n",
    "    return population"
   ]
  },
  {
   "cell_type": "markdown",
   "metadata": {},
   "source": [
    "### From one generation to the next\n",
    "\n",
    "Given a generation, in order to create the next one, we have 2 things to do. First we select a specific part of our current generation. Then the genetic algorithm combines those breeders in order to create the next batch.\n",
    "\n",
    "#### Breeders selection\n",
    "\n",
    "They are lots of way to do this but you must keep in mind two ideas: the goals are to select the best solutions of the previous generation and not to completely put aside the others. The hazard is: if you select only the good solutions at the beginning of the genetic algorithm you are going to converge really quickly towards a local minimum and not towards the best solution possible.\n",
    "\n",
    "The solution to do that is to select, on the one hand, the N better specimen (N = best_sample) and on the other hand, to select M random individuals without distinction of fitness (M = lucky_few)."
   ]
  },
  {
   "cell_type": "code",
   "execution_count": 52,
   "metadata": {},
   "outputs": [],
   "source": [
    "def computePopulationPerformance(population, password):\n",
    "    popPerformance = {}\n",
    "    for individual in population:\n",
    "        popPerformance[individual] = fitness(individual, password)\n",
    "    popPerformanceSorted = sorted(popPerformance, \\\n",
    "                                  key=operator.itemgetter(1), \\\n",
    "                                  reverse=True)\n",
    "    return popPerformanceSorted[0]"
   ]
  },
  {
   "cell_type": "code",
   "execution_count": 88,
   "metadata": {},
   "outputs": [],
   "source": [
    "def selectFromPopulation(popPerformanceSorted, best_sample, lucky_few):\n",
    "    nextGeneration = popPerformanceSorted[0:best_sample]\n",
    "    nextGeneration.extend(np.random.choice(popPerformanceSorted, lucky_few))\n",
    "    np.random.shuffle(nextGeneration)\n",
    "    return nextGeneration"
   ]
  },
  {
   "cell_type": "markdown",
   "metadata": {},
   "source": [
    "### Breeding\n",
    "\n",
    "We can keep on the biologic analogy for the breeding in our genetic algorithm. The goal of sexual reproduction is to mix the DNA of 2 individuals, so let’s do the same thing here. We have two individuals: “Tom” and “Jerry”, their DNA is defined by their alleles (the value of each letter). Thus in order to mix their DNA, we just have to mix their letters. There are lots of ways to do this so I picked the simplest solution: for each letter of the child, take randomly the letter of “Tom” or “Jerry”.\n",
    "\n",
    "Obviously, the couple “Tom\" and “Jerry” isn’t going to produce only one child. You have to fix the number of children per couple in order to keep a stable population in your genetic algorithm. The number of individuals in the generation 0 equals the number of individuals in the next generation."
   ]
  },
  {
   "cell_type": "code",
   "execution_count": 100,
   "metadata": {},
   "outputs": [],
   "source": [
    "def createChild(parent1, parent2):\n",
    "    parents = list(parent1 + parent2)\n",
    "    np.random.shuffle(parents)\n",
    "    child = np.random.choice(parents, \\\n",
    "                             size=int((len(parent1)+len(parent2))/2), \\\n",
    "                             replace=False)\n",
    "    child = ''.join(child)\n",
    "    return child"
   ]
  },
  {
   "cell_type": "code",
   "execution_count": null,
   "metadata": {},
   "outputs": [],
   "source": []
  }
 ],
 "metadata": {
  "kernelspec": {
   "display_name": "Python 3",
   "language": "python",
   "name": "python3"
  },
  "language_info": {
   "codemirror_mode": {
    "name": "ipython",
    "version": 3
   },
   "file_extension": ".py",
   "mimetype": "text/x-python",
   "name": "python",
   "nbconvert_exporter": "python",
   "pygments_lexer": "ipython3",
   "version": "3.6.3"
  }
 },
 "nbformat": 4,
 "nbformat_minor": 2
}
